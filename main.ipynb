{
 "cells": [
  {
   "cell_type": "code",
   "execution_count": 9,
   "metadata": {},
   "outputs": [],
   "source": [
    "import pandas as pd\n"
   ]
  },
  {
   "cell_type": "code",
   "execution_count": 25,
   "metadata": {},
   "outputs": [],
   "source": [
    "import pandas as pd\n",
    "\n",
    "# Read the two CSV files into DataFrames\n",
    "df1=pd.read_csv(\"/Users/karthikeyank/Documents/stocks/NIFTY 50-01-01-2015-to-31-12-2015.csv\")\n",
    "df2=pd.read_csv(\"/Users/karthikeyank/Documents/stocks/NIFTY 50-01-01-2016-to-31-12-2016.csv\")\n",
    "df3=pd.read_csv(\"/Users/karthikeyank/Documents/stocks/NIFTY 50-01-01-2017-to-31-12-2017.csv\")\n",
    "df4=pd.read_csv(\"/Users/karthikeyank/Documents/stocks/NIFTY 50-01-01-2018-to-31-12-2018.csv\")\n",
    "df5=pd.read_csv(\"/Users/karthikeyank/Documents/stocks/NIFTY 50-01-01-2019-to-31-12-2019.csv\")\n",
    "df6=pd.read_csv(\"/Users/karthikeyank/Documents/stocks/NIFTY 50-01-01-2020-to-31-12-2020.csv\")\n",
    "df7=pd.read_csv(\"/Users/karthikeyank/Documents/stocks/NIFTY 50-01-01-2021-to-31-12-2021.csv\")\n",
    "df8=pd.read_csv(\"/Users/karthikeyank/Documents/stocks/NIFTY 50-01-01-2022-to-31-12-2022.csv\")\n",
    "df9=pd.read_csv(\"/Users/karthikeyank/Documents/stocks/NIFTY 50-01-01-2023-to-01-10-2023.csv\")\n",
    "\n",
    "# Concatenate the two DataFrames vertically\n",
    "merged_df = pd.concat([df1, df2, df3, df4, df5, df6, df7, df8, df9], ignore_index=True)\n",
    "\n",
    "# Save the merged DataFrame to a new CSV file\n",
    "merged_df.to_csv(\"merged_file.csv\", index=False)\n"
   ]
  },
  {
   "cell_type": "code",
   "execution_count": 26,
   "metadata": {},
   "outputs": [
    {
     "name": "stdout",
     "output_type": "stream",
     "text": [
      "Conversion completed. Output saved to nse.csv\n"
     ]
    }
   ],
   "source": [
    "import csv\n",
    "from datetime import datetime\n",
    "\n",
    "# Input CSV file path and output CSV file path\n",
    "input_csv_path = \"/Users/karthikeyank/Documents/stocks/merged_file.csv\"\n",
    "output_csv_path = \"nse.csv\"\n",
    "\n",
    "# Function to convert date to SQL format\n",
    "def convert_to_sql_date(date_str):\n",
    "    try:\n",
    "        # Parse the input date in the current format\n",
    "        input_date = datetime.strptime(date_str, \"%d-%b-%Y\")\n",
    "        # Format it as SQL date (YYYY-MM-DD)\n",
    "        sql_date = input_date.strftime(\"%Y-%m-%d\")\n",
    "        return sql_date\n",
    "    except ValueError:\n",
    "        # Handle invalid date values (e.g., empty strings) by returning None\n",
    "        return None\n",
    "\n",
    "# Open the input and output CSV files\n",
    "with open(input_csv_path, 'r') as input_csv, open(output_csv_path, 'w', newline='') as output_csv:\n",
    "    # Create CSV reader and writer objects\n",
    "    csv_reader = csv.reader(input_csv)\n",
    "    csv_writer = csv.writer(output_csv)\n",
    "\n",
    "    # Process header row (assuming the date column is in the first position)\n",
    "    header = next(csv_reader)\n",
    "    csv_writer.writerow(header)\n",
    "\n",
    "    # Process data rows and convert the date column\n",
    "    for row in csv_reader:\n",
    "        # Assuming the date column is in the first position, change it to SQL format\n",
    "        date_str = row[0]\n",
    "        sql_date = convert_to_sql_date(date_str)\n",
    "        if sql_date is not None:\n",
    "            row[0] = sql_date\n",
    "            csv_writer.writerow(row)\n",
    "\n",
    "print(\"Conversion completed. Output saved to\", output_csv_path)\n"
   ]
  },
  {
   "cell_type": "code",
   "execution_count": 27,
   "metadata": {},
   "outputs": [],
   "source": [
    "import sqlite3\n",
    "df = pd.read_csv(\"nse.csv\")\n",
    "\n",
    "conn = sqlite3.connect(\"nse.db\")\n",
    "df.to_sql(\"nse\", conn, if_exists=\"replace\",index=False)\n",
    "\n",
    "conn.commit()\n",
    "conn.close()"
   ]
  },
  {
   "cell_type": "code",
   "execution_count": 28,
   "metadata": {},
   "outputs": [],
   "source": [
    "import pandas as pd\n",
    "import sqlite3\n",
    "\n",
    "def sql():\n",
    "    try:\n",
    "        df = pd.read_csv('nse.csv')\n",
    "\n",
    "        # Rename the columns\n",
    "        df.rename(columns={df.columns[0]: 'date', df.columns[1]: 'open', df.columns[2]: 'high', df.columns[3]: 'low', df.columns[4]: 'close'}, inplace=True)\n",
    "\n",
    "        # Convert the 'open' column to integer\n",
    "        df['open'] = df['open'].astype(int)\n",
    "\n",
    "        conn = sqlite3.connect('nse.db')\n",
    "        df.to_sql('nse', conn, if_exists='replace', index=False)\n",
    "        conn.commit()\n",
    "    except Exception as e:\n",
    "        print(f\"An error occurred: {str(e)}\")\n",
    "    finally:\n",
    "        conn.close()\n",
    "\n",
    "sql()\n"
   ]
  },
  {
   "cell_type": "code",
   "execution_count": 32,
   "metadata": {},
   "outputs": [],
   "source": [
    "import pandas as pd\n",
    "import sqlite3\n",
    "\n",
    "def sql():\n",
    "    try:\n",
    "        df = pd.read_csv('nse.csv')\n",
    "        \n",
    "        # Rename the 0th column to 'date'\n",
    "        df.rename(columns={df.columns[0]: 'date', df.columns[1]: 'open', df.columns[2]: 'high', df.columns[3]: 'low', df.columns[4]: 'close',df.columns[5]: 'volume', df.columns[6]: 'oi'}, inplace=True)\n",
    "\n",
    "        \n",
    "        conn = sqlite3.connect('nse.db')\n",
    "        df.to_sql('nse', conn, if_exists='replace', index=False)  # Set index=False if you don't want to save the DataFrame index as a column\n",
    "        conn.commit()\n",
    "    except Exception as e:\n",
    "        print(f\"An error occurred: {str(e)}\")\n",
    "    finally:\n",
    "        conn.close()\n",
    "\n",
    "sql()\n"
   ]
  },
  {
   "cell_type": "code",
   "execution_count": 34,
   "metadata": {},
   "outputs": [
    {
     "name": "stdout",
     "output_type": "stream",
     "text": [
      "date       object\n",
      "open      float64\n",
      "high      float64\n",
      "low       float64\n",
      "close     float64\n",
      "volume    float64\n",
      "oi        float64\n",
      "dtype: object\n"
     ]
    }
   ],
   "source": [
    "conn=sqlite3.connect('nse.db')\n",
    "df=pd.read_sql_query(\"SELECT date,open,high,low,close,volume,oi FROM nse\",conn)\n",
    "aw=print(df.dtypes)\n",
    "\n",
    "conn.close()\n",
    "aw"
   ]
  },
  {
   "cell_type": "code",
   "execution_count": 36,
   "metadata": {},
   "outputs": [
    {
     "name": "stdout",
     "output_type": "stream",
     "text": [
      "          date      open      high       low     close       volume        oi\n",
      "0   2022-01-14  18185.00  18286.95  18119.65  18255.75  229451608.0  21024.51\n",
      "1   2022-01-17  18235.65  18321.55  18228.75  18308.10  266702919.0  23859.38\n",
      "2   2022-01-18  18337.20  18350.95  18085.90  18113.05  227507319.0  20852.67\n",
      "3   2022-01-19  18129.20  18129.20  17884.90  17938.40  276662654.0  25310.19\n",
      "4   2022-01-20  17921.00  17943.70  17648.45  17757.00  258094246.0  25863.29\n",
      "5   2022-01-21  17613.70  17707.60  17485.85  17617.15  277645373.0  25941.64\n",
      "6   2022-01-24  17575.15  17599.40  16997.85  17149.10  323847388.0  28387.73\n",
      "7   2022-01-25  17001.55  17309.15  16836.80  17277.95  326515896.0  31344.46\n",
      "8   2022-01-27  17062.00  17182.50  16866.75  17110.15  395596577.0  36296.64\n",
      "9   2022-01-28  17208.30  17373.50  17077.10  17101.95  355284285.0  29799.89\n",
      "10  2022-01-31  17301.05  17410.00  17264.15  17339.85  321660346.0  25474.13\n",
      "11  2022-02-01  17529.45  17622.40  17244.55  17576.85  386391485.0  30033.66\n",
      "12  2022-02-02  17706.20  17794.60  17674.80  17780.00  271205907.0  23611.59\n",
      "13  2022-02-03  17767.75  17781.15  17511.15  17560.20  226614989.0  20373.06\n",
      "14  2022-02-04  17590.20  17617.80  17462.55  17516.30  261434170.0  20651.85\n",
      "15  2022-02-07  17456.30  17536.75  17119.40  17213.60  265037933.0  21925.11\n",
      "16  2022-02-08  17279.85  17306.45  17043.65  17266.75  268526210.0  23846.16\n",
      "17  2022-02-09  17370.10  17477.15  17339.00  17463.80  236350514.0  19327.67\n",
      "18  2022-02-10  17554.10  17639.45  17427.15  17605.85  273606440.0  22210.93\n",
      "19  2022-02-11  17451.00  17454.75  17303.00  17374.75  253141660.0  23230.82\n",
      "20  2022-02-14  17076.15  17099.50  16809.65  16842.80  305510740.0  24976.16\n",
      "21  2022-02-15  16933.25  17375.00  16839.25  17352.45  298658142.0  24765.67\n",
      "22  2022-02-16  17408.45  17490.60  17257.70  17322.20  244549223.0  21128.38\n",
      "23  2022-02-17  17396.55  17442.90  17235.85  17304.60  232136131.0  19381.26\n",
      "24  2022-02-18  17236.05  17380.80  17219.20  17276.30  189620888.0  16126.96\n",
      "25  2022-02-21  17192.25  17351.05  17070.70  17206.65  215183301.0  18725.57\n",
      "26  2022-02-22  16847.95  17148.55  16843.80  17092.20  300131995.0  24040.84\n",
      "27  2022-02-23  17194.50  17220.70  17027.85  17063.25  200229631.0  17662.47\n",
      "28  2022-02-24  16548.90  16705.25  16203.25  16247.95  457967874.0  36650.83\n",
      "29  2022-02-25  16515.65  16748.80  16478.30  16658.40  329780732.0  25743.77\n",
      "30  2022-02-28  16481.60  16815.90  16356.30  16793.90  404214666.0  33831.57\n",
      "31  2022-03-02  16593.10  16678.50  16478.65  16605.95  517723542.0  39407.44\n",
      "32  2022-03-03  16723.20  16768.95  16442.95  16498.05  442068263.0  31413.00\n",
      "33  2022-03-04  16339.45  16456.00  16133.80  16245.35  456143040.0  34821.10\n",
      "34  2022-03-07  15867.95  15944.60  15711.45  15863.15  585403660.0  38038.75\n",
      "35  2022-03-08  15747.75  16028.75  15671.45  16013.45  543600673.0  38704.40\n",
      "36  2022-03-09  16078.00  16418.05  15990.00  16345.35  462231428.0  35329.34\n",
      "37  2022-03-10  16757.10  16757.30  16447.90  16594.90  486445481.0  35513.73\n"
     ]
    }
   ],
   "source": [
    "import sqlite3\n",
    "import pandas as pd\n",
    "\n",
    "def db():\n",
    "    try:\n",
    "        conn = sqlite3.connect('nse.db')\n",
    "        sdate = '2022-01-14'\n",
    "        edate = '2022-03-10'\n",
    "        \n",
    "        query = \"\"\"    \n",
    "        SELECT DISTINCT date, open, high, low, close, volume, oi\n",
    "        FROM nse\n",
    "        WHERE date BETWEEN ? AND ?\n",
    "        \"\"\"\n",
    "        \n",
    "        df1 = pd.read_sql_query(query, conn, params=(sdate, edate))\n",
    "        \n",
    "        conn.close()\n",
    "        return df1\n",
    "    except Exception as e:\n",
    "        print(f\"An error occurred: {e}\")\n",
    "        return None\n",
    "\n",
    "result_df = db()\n",
    "if result_df is not None:\n",
    "    print(result_df)\n",
    "else:\n",
    "    print(\"No data found.\")\n"
   ]
  }
 ],
 "metadata": {
  "kernelspec": {
   "display_name": "Python 3",
   "language": "python",
   "name": "python3"
  },
  "language_info": {
   "codemirror_mode": {
    "name": "ipython",
    "version": 3
   },
   "file_extension": ".py",
   "mimetype": "text/x-python",
   "name": "python",
   "nbconvert_exporter": "python",
   "pygments_lexer": "ipython3",
   "version": "3.9.6"
  },
  "orig_nbformat": 4
 },
 "nbformat": 4,
 "nbformat_minor": 2
}
